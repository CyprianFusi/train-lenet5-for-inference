{
 "cells": [
  {
   "cell_type": "markdown",
   "metadata": {},
   "source": [
    "In this section, we are going to see how we can build a TensorFlow model and\n",
    "reload it for prediction in TensorFlow. The data set that we are going to use to build this deep neural network is\n",
    "the standard **MNIST** set we used previously.\n",
    "**MNIST** dataset contains `70,000` images (in grayscale) in `10` different categories. The images are `28 × 28` pixels of individual articles of clothing, with values ranging from `0` to `255`. Of the total `70,000` images, `60,000` are used for training, and the remaining `10,000` images are used for testing. The labels are integer arrays ranging from `0` to `9`. Each grayscale image is normalized to fit a `28 × 28` pixel bounding box. \n"
   ]
  },
  {
   "cell_type": "code",
   "execution_count": 1,
   "metadata": {},
   "outputs": [],
   "source": [
    "import warnings\n",
    "warnings.filterwarnings('ignore')"
   ]
  },
  {
   "cell_type": "markdown",
   "metadata": {},
   "source": [
    "# Import required packages and modules"
   ]
  },
  {
   "cell_type": "code",
   "execution_count": 2,
   "metadata": {},
   "outputs": [
    {
     "name": "stdout",
     "output_type": "stream",
     "text": [
      "2.0.0-beta1\n"
     ]
    }
   ],
   "source": [
    "import numpy as np\n",
    "import tensorflow as tf\n",
    "from tensorflow import keras\n",
    "import matplotlib.pyplot as plt\n",
    "print(tf.__version__)"
   ]
  },
  {
   "cell_type": "markdown",
   "metadata": {},
   "source": [
    "# Load and explore the MNIST dataset"
   ]
  },
  {
   "cell_type": "code",
   "execution_count": 3,
   "metadata": {},
   "outputs": [],
   "source": [
    "(X_train, y_train), (X_test, y_test) = keras.datasets.mnist.load_data()"
   ]
  },
  {
   "cell_type": "code",
   "execution_count": 4,
   "metadata": {},
   "outputs": [
    {
     "name": "stdout",
     "output_type": "stream",
     "text": [
      "Training Images Dataset Shape: (60000, 28, 28)\n",
      "\n",
      "No. of Training Images Dataset Labels: 60000\n",
      "\n",
      "Test Images Dataset Shape: (10000, 28, 28)\n",
      "\n",
      "No. of Test Images Dataset Labels: 10000\n"
     ]
    }
   ],
   "source": [
    "print('Training Images Dataset Shape: {}'.format(X_train.shape))\n",
    "print('\\nNo. of Training Images Dataset Labels: {}'.format(len(y_train)))\n",
    "print('\\nTest Images Dataset Shape: {}'.format(X_test.shape))\n",
    "print('\\nNo. of Test Images Dataset Labels: {}'.format(len(y_test)))"
   ]
  },
  {
   "cell_type": "markdown",
   "metadata": {},
   "source": [
    "# View sample images and print the labels"
   ]
  },
  {
   "cell_type": "code",
   "execution_count": 5,
   "metadata": {},
   "outputs": [
    {
     "data": {
      "text/plain": [
       "<matplotlib.image.AxesImage at 0x1e329b8bb88>"
      ]
     },
     "execution_count": 5,
     "metadata": {},
     "output_type": "execute_result"
    },
    {
     "data": {
      "image/png": "[encoded data removed]",
      "text/plain": [
       "<Figure size 432x288 with 1 Axes>"
      ]
     },
     "metadata": {
      "needs_background": "light"
     },
     "output_type": "display_data"
    }
   ],
   "source": [
    "plt.imshow(X_train[100])"
   ]
  },
  {
   "cell_type": "code",
   "execution_count": 6,
   "metadata": {},
   "outputs": [
    {
     "name": "stdout",
     "output_type": "stream",
     "text": [
      "5\n"
     ]
    }
   ],
   "source": [
    "print(y_train[100])"
   ]
  },
  {
   "cell_type": "code",
   "execution_count": 7,
   "metadata": {},
   "outputs": [
    {
     "data": {
      "text/plain": [
       "<matplotlib.image.AxesImage at 0x1e329c55488>"
      ]
     },
     "execution_count": 7,
     "metadata": {},
     "output_type": "execute_result"
    },
    {
     "data": {
      "image/png": "[encoded data removed]",
      "text/plain": [
       "<Figure size 432x288 with 1 Axes>"
      ]
     },
     "metadata": {
      "needs_background": "light"
     },
     "output_type": "display_data"
    }
   ],
   "source": [
    "plt.imshow(X_train[5000])"
   ]
  },
  {
   "cell_type": "code",
   "execution_count": 8,
   "metadata": {},
   "outputs": [
    {
     "name": "stdout",
     "output_type": "stream",
     "text": [
      "7\n"
     ]
    }
   ],
   "source": [
    "print(y_train[5000])"
   ]
  },
  {
   "cell_type": "markdown",
   "metadata": {},
   "source": [
    "# Scaling pixel values"
   ]
  },
  {
   "cell_type": "markdown",
   "metadata": {},
   "source": [
    "As the pixel values range from `0 to 255`, we have to rescale these values in the range `0 to 1` before pushing them to the model. We can scale these feature values (both for training and test data sets) by dividing the values by `255`."
   ]
  },
  {
   "cell_type": "code",
   "execution_count": 9,
   "metadata": {},
   "outputs": [],
   "source": [
    "X_train = X_train / 255.0\n",
    "X_test = X_test / 255.0"
   ]
  },
  {
   "cell_type": "markdown",
   "metadata": {},
   "source": [
    "# Reshape the input images"
   ]
  },
  {
   "cell_type": "markdown",
   "metadata": {},
   "source": [
    "Input image into a convnets is often of the shape (**BATCH, HEIGHT, WIDTH, CHANNEL**). For this dataset it would be `(60000, 28, 28, 1)` for the training image and `(10000, 28, 28, 1)` for the test image data. We can therefore reshape the training and test dataset by reshaping the matrices into a `28 × 28 × 1` array with the last dimension denoting the `gray` channel."
   ]
  },
  {
   "cell_type": "code",
   "execution_count": 10,
   "metadata": {},
   "outputs": [],
   "source": [
    "X_train = X_train.reshape((60000, 28, 28, 1))\n",
    "X_test = X_test.reshape((10000, 28, 28, 1))"
   ]
  },
  {
   "cell_type": "code",
   "execution_count": 11,
   "metadata": {},
   "outputs": [
    {
     "name": "stdout",
     "output_type": "stream",
     "text": [
      "Training Images Dataset Shape: (60000, 28, 28, 1)\n",
      "\n",
      "No. of Training Images Dataset Labels: 60000\n",
      "\n",
      "Test Images Dataset Shape: (10000, 28, 28, 1)\n",
      "\n",
      "No. of Test Images Dataset Labels: 10000\n"
     ]
    }
   ],
   "source": [
    "print('Training Images Dataset Shape: {}'.format(X_train.shape))\n",
    "print('\\nNo. of Training Images Dataset Labels: {}'.format(len(y_train)))\n",
    "print('\\nTest Images Dataset Shape: {}'.format(X_test.shape))\n",
    "print('\\nNo. of Test Images Dataset Labels: {}'.format(len(y_test)))"
   ]
  },
  {
   "cell_type": "markdown",
   "metadata": {},
   "source": [
    "# Transform the target class"
   ]
  },
  {
   "cell_type": "markdown",
   "metadata": {},
   "source": [
    "We need to convert the target class variable\n",
    "(`y_train` and `y_test`) into something that the neural network can understand and work on."
   ]
  },
  {
   "cell_type": "code",
   "execution_count": 13,
   "metadata": {},
   "outputs": [
    {
     "name": "stdout",
     "output_type": "stream",
     "text": [
      "Target classes: [0 1 2 3 4 5 6 7 8 9]\n"
     ]
    }
   ],
   "source": [
    "num_classes = np.unique(y_train)\n",
    "print('Target classes:', num_classes)"
   ]
  },
  {
   "cell_type": "code",
   "execution_count": 14,
   "metadata": {},
   "outputs": [
    {
     "name": "stdout",
     "output_type": "stream",
     "text": [
      "5 => [0. 0. 0. 0. 0. 1. 0. 0. 0. 0.]\n"
     ]
    }
   ],
   "source": [
    "print(y_train[0], end=' => ')\n",
    "y_train = keras.utils.to_categorical(y_train, len(num_classes))\n",
    "y_test = keras.utils.to_categorical(y_test, len(num_classes))\n",
    "print(y_train[0])"
   ]
  },
  {
   "cell_type": "code",
   "execution_count": 15,
   "metadata": {},
   "outputs": [],
   "source": [
    "img_height = X_train.shape[1]\n",
    "img_width = X_train.shape[2]\n",
    "input_shape = (img_height, img_width, 1)"
   ]
  },
  {
   "cell_type": "markdown",
   "metadata": {},
   "source": [
    "# Build the convnet model using SeparableConv2D"
   ]
  },
  {
   "cell_type": "markdown",
   "metadata": {},
   "source": [
    "First layer is a **convolutional** layer with `ReLU` activation function: This layer takes the 2D array (`28 × 28` pixels) as input. We will apply `6` convolutional kernels (filters) of shape `5 × 5` pixels. The output will be passed to a `ReLU` activation function before being passed to the next layer."
   ]
  },
  {
   "cell_type": "code",
   "execution_count": 16,
   "metadata": {},
   "outputs": [],
   "source": [
    "lenet = keras.models.Sequential()\n",
    "lenet.add(keras.layers.Conv2D(6, kernel_size = (5, 5), activation = 'relu', input_shape = input_shape, padding ='same', name = 'Conv2D_layer_1'))\n",
    "lenet.add(keras.layers.AveragePooling2D(pool_size = (2, 2), strides = (1, 1), padding = 'valid'))"
   ]
  },
  {
   "cell_type": "markdown",
   "metadata": {},
   "source": [
    "Second layer above is a **pooling** layer: This layer takes the `6` `26 × 26` `2D` arrays output from first layer as input and transforms them into the same number (`6`) of arrays, with dimensions `half` that of the original (i.e., from `26 × 26` to `13 × 13` pixels) using a **AveragePooling2D** filter of size `(2, 2)`."
   ]
  },
  {
   "cell_type": "code",
   "execution_count": 17,
   "metadata": {},
   "outputs": [],
   "source": [
    "lenet.add(keras.layers.Conv2D(16, kernel_size = (5, 5), activation = 'relu', padding ='valid', name = 'Conv2D_layer_2'))\n",
    "lenet.add(keras.layers.AveragePooling2D(pool_size = (2, 2), strides = (1, 1), padding = 'valid'))\n",
    "lenet.add(keras.layers.Conv2D(120, kernel_size = (5, 5), activation = 'relu', name = 'Conv2D_layer_3'))"
   ]
  },
  {
   "cell_type": "markdown",
   "metadata": {},
   "source": [
    "The final layers and output layer — **fully connected** or **dense** layer: This layer takes the `6` `13 × 13` `2D` arrays from layers above as input and transforms (**flattens**) them into a `1D` array of `1014` elements `(6 × 13 × 13)` using a flatten layer. These `1014` input elements are passed through a **fully connected** or **dense** or **MLP** layer with `84` units (neurons) and finally through an output layer (MLP) with `10` units and a **softmax** activation function that gives the **probability scores** for each of the `10` output labels."
   ]
  },
  {
   "cell_type": "code",
   "execution_count": 18,
   "metadata": {},
   "outputs": [],
   "source": [
    "lenet.add(keras.layers.Flatten(name = 'Flatten'))\n",
    "lenet.add(keras.layers.Dense(84, activation = 'relu', name = 'Dense_layer_1'))\n",
    "lenet.add(keras.layers.Dense(10, activation = 'softmax', name = 'Output_layer'))"
   ]
  },
  {
   "cell_type": "code",
   "execution_count": 20,
   "metadata": {},
   "outputs": [
    {
     "name": "stdout",
     "output_type": "stream",
     "text": [
      "Model: \"sequential\"\n",
      "_________________________________________________________________\n",
      "Layer (type)                 Output Shape              Param #   \n",
      "=================================================================\n",
      "Conv2D_layer_1 (Conv2D)      (None, 28, 28, 6)         156       \n",
      "_________________________________________________________________\n",
      "average_pooling2d (AveragePo (None, 27, 27, 6)         0         \n",
      "_________________________________________________________________\n",
      "Conv2D_layer_2 (Conv2D)      (None, 23, 23, 16)        2416      \n",
      "_________________________________________________________________\n",
      "average_pooling2d_1 (Average (None, 22, 22, 16)        0         \n",
      "_________________________________________________________________\n",
      "Conv2D_layer_3 (Conv2D)      (None, 18, 18, 120)       48120     \n",
      "_________________________________________________________________\n",
      "Flatten (Flatten)            (None, 38880)             0         \n",
      "_________________________________________________________________\n",
      "Dense_layer_1 (Dense)        (None, 84)                3266004   \n",
      "_________________________________________________________________\n",
      "Output_layer (Dense)         (None, 10)                850       \n",
      "=================================================================\n",
      "Total params: 3,317,546\n",
      "Trainable params: 3,317,546\n",
      "Non-trainable params: 0\n",
      "_________________________________________________________________\n"
     ]
    }
   ],
   "source": [
    "lenet.summary()"
   ]
  },
  {
   "cell_type": "markdown",
   "metadata": {},
   "source": [
    "# Compile the model"
   ]
  },
  {
   "cell_type": "code",
   "execution_count": 21,
   "metadata": {},
   "outputs": [],
   "source": [
    "lenet.compile(optimizer = 'SGD', loss = 'categorical_crossentropy', metrics = ['accuracy'])"
   ]
  },
  {
   "cell_type": "markdown",
   "metadata": {},
   "source": [
    "# Train the model"
   ]
  },
  {
   "cell_type": "code",
   "execution_count": 22,
   "metadata": {},
   "outputs": [
    {
     "name": "stdout",
     "output_type": "stream",
     "text": [
      "WARNING:tensorflow:From C:\\Users\\Fusi\\anaconda37\\lib\\site-packages\\tensorflow\\python\\ops\\math_grad.py:1250: add_dispatch_support.<locals>.wrapper (from tensorflow.python.ops.array_ops) is deprecated and will be removed in a future version.\n",
      "Instructions for updating:\n",
      "Use tf.where in 2.0, which has the same broadcast rule as np.where\n",
      "Train on 60000 samples, validate on 10000 samples\n",
      "Epoch 1/50\n",
      "60000/60000 [==============================] - 155s 3ms/sample - loss: 0.5473 - accuracy: 0.8320 - val_loss: 0.1482 - val_accuracy: 0.9577\n",
      "Epoch 2/50\n",
      "60000/60000 [==============================] - 157s 3ms/sample - loss: 0.1198 - accuracy: 0.9635 - val_loss: 0.0747 - val_accuracy: 0.9753\n",
      "Epoch 3/50\n",
      "60000/60000 [==============================] - 157s 3ms/sample - loss: 0.0791 - accuracy: 0.9758 - val_loss: 0.0690 - val_accuracy: 0.9786\n",
      "Epoch 4/50\n",
      "60000/60000 [==============================] - 158s 3ms/sample - loss: 0.0611 - accuracy: 0.9811 - val_loss: 0.0528 - val_accuracy: 0.9815\n",
      "Epoch 5/50\n",
      "60000/60000 [==============================] - 157s 3ms/sample - loss: 0.0505 - accuracy: 0.9849 - val_loss: 0.0501 - val_accuracy: 0.9840\n",
      "Epoch 6/50\n",
      "60000/60000 [==============================] - 158s 3ms/sample - loss: 0.0423 - accuracy: 0.9867 - val_loss: 0.0458 - val_accuracy: 0.9840\n",
      "Epoch 7/50\n",
      "60000/60000 [==============================] - 159s 3ms/sample - loss: 0.0370 - accuracy: 0.9881 - val_loss: 0.0445 - val_accuracy: 0.9851\n",
      "Epoch 8/50\n",
      "60000/60000 [==============================] - 158s 3ms/sample - loss: 0.0315 - accuracy: 0.9901 - val_loss: 0.0442 - val_accuracy: 0.9861\n",
      "Epoch 9/50\n",
      "60000/60000 [==============================] - 158s 3ms/sample - loss: 0.0274 - accuracy: 0.9910 - val_loss: 0.0544 - val_accuracy: 0.9809\n",
      "Epoch 10/50\n",
      "60000/60000 [==============================] - 158s 3ms/sample - loss: 0.0236 - accuracy: 0.9927 - val_loss: 0.0374 - val_accuracy: 0.9880\n",
      "Epoch 11/50\n",
      "60000/60000 [==============================] - 157s 3ms/sample - loss: 0.0200 - accuracy: 0.9936 - val_loss: 0.0436 - val_accuracy: 0.9870\n",
      "Epoch 12/50\n",
      "60000/60000 [==============================] - 158s 3ms/sample - loss: 0.0184 - accuracy: 0.9942 - val_loss: 0.0420 - val_accuracy: 0.9868\n",
      "Epoch 13/50\n",
      "60000/60000 [==============================] - 157s 3ms/sample - loss: 0.0151 - accuracy: 0.9954 - val_loss: 0.0411 - val_accuracy: 0.9878\n",
      "Epoch 14/50\n",
      "60000/60000 [==============================] - 158s 3ms/sample - loss: 0.0136 - accuracy: 0.9959 - val_loss: 0.0473 - val_accuracy: 0.9867\n",
      "Epoch 15/50\n",
      "60000/60000 [==============================] - 158s 3ms/sample - loss: 0.0115 - accuracy: 0.9965 - val_loss: 0.0420 - val_accuracy: 0.9879\n",
      "Epoch 16/50\n",
      "60000/60000 [==============================] - 158s 3ms/sample - loss: 0.0103 - accuracy: 0.9971 - val_loss: 0.0452 - val_accuracy: 0.9875\n",
      "Epoch 17/50\n",
      "60000/60000 [==============================] - 157s 3ms/sample - loss: 0.0093 - accuracy: 0.9974 - val_loss: 0.0514 - val_accuracy: 0.9864\n",
      "Epoch 18/50\n",
      "60000/60000 [==============================] - 158s 3ms/sample - loss: 0.0085 - accuracy: 0.9975 - val_loss: 0.0457 - val_accuracy: 0.9875\n",
      "Epoch 19/50\n",
      "60000/60000 [==============================] - 159s 3ms/sample - loss: 0.0067 - accuracy: 0.9983 - val_loss: 0.0431 - val_accuracy: 0.9888\n",
      "Epoch 20/50\n",
      "60000/60000 [==============================] - 157s 3ms/sample - loss: 0.0061 - accuracy: 0.9984 - val_loss: 0.0453 - val_accuracy: 0.9880\n",
      "Epoch 21/50\n",
      "60000/60000 [==============================] - 156s 3ms/sample - loss: 0.0059 - accuracy: 0.9985 - val_loss: 0.0450 - val_accuracy: 0.9884\n",
      "Epoch 22/50\n",
      "60000/60000 [==============================] - 158s 3ms/sample - loss: 0.0047 - accuracy: 0.9988 - val_loss: 0.0446 - val_accuracy: 0.9883\n",
      "Epoch 23/50\n",
      "60000/60000 [==============================] - 158s 3ms/sample - loss: 0.0046 - accuracy: 0.9989 - val_loss: 0.0520 - val_accuracy: 0.9881\n",
      "Epoch 24/50\n",
      "60000/60000 [==============================] - 157s 3ms/sample - loss: 0.0037 - accuracy: 0.9990 - val_loss: 0.0461 - val_accuracy: 0.9884\n",
      "Epoch 25/50\n",
      "60000/60000 [==============================] - 156s 3ms/sample - loss: 0.0040 - accuracy: 0.9989 - val_loss: 0.0474 - val_accuracy: 0.9877\n",
      "Epoch 26/50\n",
      "60000/60000 [==============================] - 156s 3ms/sample - loss: 0.0031 - accuracy: 0.9992 - val_loss: 0.0485 - val_accuracy: 0.9894\n",
      "Epoch 27/50\n",
      "60000/60000 [==============================] - 157s 3ms/sample - loss: 0.0027 - accuracy: 0.9994 - val_loss: 0.0492 - val_accuracy: 0.9889\n",
      "Epoch 28/50\n",
      "60000/60000 [==============================] - 158s 3ms/sample - loss: 0.0024 - accuracy: 0.9995 - val_loss: 0.0487 - val_accuracy: 0.9887\n",
      "Epoch 29/50\n",
      "60000/60000 [==============================] - 157s 3ms/sample - loss: 0.0018 - accuracy: 0.9997 - val_loss: 0.0510 - val_accuracy: 0.9889\n",
      "Epoch 30/50\n",
      "60000/60000 [==============================] - 157s 3ms/sample - loss: 0.0018 - accuracy: 0.9996 - val_loss: 0.0543 - val_accuracy: 0.9878\n",
      "Epoch 31/50\n",
      "60000/60000 [==============================] - 156s 3ms/sample - loss: 0.0014 - accuracy: 0.9998 - val_loss: 0.0519 - val_accuracy: 0.9886\n",
      "Epoch 32/50\n",
      "60000/60000 [==============================] - 156s 3ms/sample - loss: 0.0011 - accuracy: 0.9999 - val_loss: 0.0521 - val_accuracy: 0.9890\n",
      "Epoch 33/50\n",
      "60000/60000 [==============================] - 157s 3ms/sample - loss: 0.0010 - accuracy: 0.9998 - val_loss: 0.0519 - val_accuracy: 0.9889\n",
      "Epoch 34/50\n",
      "60000/60000 [==============================] - 158s 3ms/sample - loss: 9.8594e-04 - accuracy: 0.9999 - val_loss: 0.0533 - val_accuracy: 0.9886\n",
      "Epoch 35/50\n",
      "60000/60000 [==============================] - 158s 3ms/sample - loss: 7.9258e-04 - accuracy: 0.9999 - val_loss: 0.0538 - val_accuracy: 0.9886\n",
      "Epoch 36/50\n",
      "60000/60000 [==============================] - 158s 3ms/sample - loss: 7.9841e-04 - accuracy: 0.9999 - val_loss: 0.0547 - val_accuracy: 0.9887\n",
      "Epoch 37/50\n",
      "60000/60000 [==============================] - 159s 3ms/sample - loss: 7.4295e-04 - accuracy: 0.9999 - val_loss: 0.0554 - val_accuracy: 0.9887\n",
      "Epoch 38/50\n",
      "60000/60000 [==============================] - 159s 3ms/sample - loss: 6.0760e-04 - accuracy: 1.0000 - val_loss: 0.0565 - val_accuracy: 0.9883\n",
      "Epoch 39/50\n",
      "60000/60000 [==============================] - 159s 3ms/sample - loss: 5.8066e-04 - accuracy: 1.0000 - val_loss: 0.0564 - val_accuracy: 0.9883\n",
      "Epoch 40/50\n",
      "60000/60000 [==============================] - 158s 3ms/sample - loss: 6.8052e-04 - accuracy: 0.9999 - val_loss: 0.0557 - val_accuracy: 0.9884\n",
      "Epoch 41/50\n",
      "60000/60000 [==============================] - 159s 3ms/sample - loss: 5.0805e-04 - accuracy: 1.0000 - val_loss: 0.0563 - val_accuracy: 0.9888\n",
      "Epoch 42/50\n",
      "60000/60000 [==============================] - 158s 3ms/sample - loss: 4.8075e-04 - accuracy: 1.0000 - val_loss: 0.0570 - val_accuracy: 0.9885\n",
      "Epoch 43/50\n",
      "60000/60000 [==============================] - 159s 3ms/sample - loss: 5.9176e-04 - accuracy: 0.9999 - val_loss: 0.0563 - val_accuracy: 0.9887\n",
      "Epoch 44/50\n",
      "60000/60000 [==============================] - 159s 3ms/sample - loss: 4.7088e-04 - accuracy: 1.0000 - val_loss: 0.0578 - val_accuracy: 0.9883\n",
      "Epoch 45/50\n",
      "60000/60000 [==============================] - 159s 3ms/sample - loss: 4.4903e-04 - accuracy: 1.0000 - val_loss: 0.0580 - val_accuracy: 0.9889\n",
      "Epoch 46/50\n",
      "60000/60000 [==============================] - 160s 3ms/sample - loss: 4.6033e-04 - accuracy: 1.0000 - val_loss: 0.0592 - val_accuracy: 0.9883\n",
      "Epoch 47/50\n",
      "60000/60000 [==============================] - 156s 3ms/sample - loss: 4.8640e-04 - accuracy: 0.9999 - val_loss: 0.0585 - val_accuracy: 0.9887\n",
      "Epoch 48/50\n",
      "60000/60000 [==============================] - 157s 3ms/sample - loss: 4.8374e-04 - accuracy: 1.0000 - val_loss: 0.0590 - val_accuracy: 0.9889\n",
      "Epoch 49/50\n",
      "60000/60000 [==============================] - 157s 3ms/sample - loss: 4.4037e-04 - accuracy: 1.0000 - val_loss: 0.0587 - val_accuracy: 0.9887\n",
      "Epoch 50/50\n",
      "60000/60000 [==============================] - 156s 3ms/sample - loss: 4.0887e-04 - accuracy: 1.0000 - val_loss: 0.0591 - val_accuracy: 0.9887\n"
     ]
    }
   ],
   "source": [
    "batch_size = 64\n",
    "epochs = 50\n",
    "history = lenet.fit(X_train, y_train, batch_size = batch_size, epochs = epochs, validation_data = (X_test, y_test))"
   ]
  },
  {
   "cell_type": "markdown",
   "metadata": {},
   "source": [
    "# Model Evaluation - list all data in history"
   ]
  },
  {
   "cell_type": "code",
   "execution_count": 23,
   "metadata": {},
   "outputs": [
    {
     "name": "stdout",
     "output_type": "stream",
     "text": [
      "dict_keys(['loss', 'accuracy', 'val_loss', 'val_accuracy'])\n"
     ]
    }
   ],
   "source": [
    "print(history.history.keys())"
   ]
  },
  {
   "cell_type": "code",
   "execution_count": 24,
   "metadata": {},
   "outputs": [],
   "source": [
    "train_acc = history.history['accuracy']\n",
    "val_acc = history.history['val_accuracy']\n",
    "train_loss = history.history['loss']\n",
    "val_loss = history.history['val_loss']"
   ]
  },
  {
   "cell_type": "code",
   "execution_count": 39,
   "metadata": {},
   "outputs": [
    {
     "name": "stdout",
     "output_type": "stream",
     "text": [
      "Training Accuracy: 99.28%\n"
     ]
    }
   ],
   "source": [
    "print('Training Accuracy: {}%'.format(round(sum(train_acc) / len(train_acc) * 100, 2)))"
   ]
  },
  {
   "cell_type": "code",
   "execution_count": 40,
   "metadata": {},
   "outputs": [
    {
     "name": "stdout",
     "output_type": "stream",
     "text": [
      "Validation Accuracy: 98.67%\n"
     ]
    }
   ],
   "source": [
    "print('Validation Accuracy: {}%'.format(round(sum(val_acc) / len(val_acc) * 100, 2)))"
   ]
  },
  {
   "cell_type": "code",
   "execution_count": 57,
   "metadata": {},
   "outputs": [],
   "source": [
    "#test_loss, test_accuracy = lenet.evaluate(X_test, y_test)"
   ]
  },
  {
   "cell_type": "code",
   "execution_count": 58,
   "metadata": {},
   "outputs": [],
   "source": [
    "#print('Test Accuracy: {}%'.format(round(float(test_accuracy) * 100, 2)))"
   ]
  },
  {
   "cell_type": "markdown",
   "metadata": {},
   "source": [
    "# Plot scores"
   ]
  },
  {
   "cell_type": "code",
   "execution_count": 32,
   "metadata": {},
   "outputs": [
    {
     "data": {
      "text/plain": [
       "<matplotlib.legend.Legend at 0x1e32794ffc8>"
      ]
     },
     "execution_count": 32,
     "metadata": {},
     "output_type": "execute_result"
    },
    {
     "data": {
      "image/png": "[encoded data removed]",
      "text/plain": [
       "<Figure size 432x288 with 1 Axes>"
      ]
     },
     "metadata": {
      "needs_background": "light"
     },
     "output_type": "display_data"
    },
    {
     "data": {
      "image/png": "[encoded data removed]",
      "text/plain": [
       "<Figure size 432x288 with 1 Axes>"
      ]
     },
     "metadata": {
      "needs_background": "light"
     },
     "output_type": "display_data"
    }
   ],
   "source": [
    "x_epochs = range(1, epochs + 1)\n",
    "\n",
    "plt.plot(x_epochs, train_acc, 'bo', label='Training acc')\n",
    "plt.plot(x_epochs, val_acc, 'b', label='Validation acc')\n",
    "plt.title('Training and validation accuracy')\n",
    "plt.xlabel(\"Epochs\")\n",
    "plt.ylabel(\"Accuracy\")\n",
    "plt.legend()\n",
    "\n",
    "plt.figure()\n",
    "\n",
    "plt.plot(x_epochs, train_loss, 'bo', label='Training loss')\n",
    "plt.plot(x_epochs, val_loss, 'b', label='Validation loss')\n",
    "plt.title('Training and validation loss')\n",
    "plt.xlabel(\"Epochs\")\n",
    "plt.ylabel(\"Loss\")\n",
    "plt.legend()"
   ]
  },
  {
   "cell_type": "markdown",
   "metadata": {},
   "source": [
    "# Save the model as a Keras model"
   ]
  },
  {
   "cell_type": "code",
   "execution_count": 41,
   "metadata": {},
   "outputs": [],
   "source": [
    "model_path = './model/lenet.h5'\n",
    "lenet.save(model_path)"
   ]
  },
  {
   "cell_type": "markdown",
   "metadata": {},
   "source": [
    "# Load model for prediction"
   ]
  },
  {
   "cell_type": "code",
   "execution_count": 42,
   "metadata": {},
   "outputs": [],
   "source": [
    "loaded_lenet = keras.models.load_model(model_path)"
   ]
  },
  {
   "cell_type": "markdown",
   "metadata": {},
   "source": [
    "In the following example, we load a **test image (100), which is a dress**,\n",
    "and then we will use our saved model to make a prediction about this image."
   ]
  },
  {
   "cell_type": "code",
   "execution_count": 43,
   "metadata": {},
   "outputs": [
    {
     "data": {
      "text/plain": [
       "<matplotlib.image.AxesImage at 0x1e3447de588>"
      ]
     },
     "execution_count": 43,
     "metadata": {},
     "output_type": "execute_result"
    },
    {
     "data": {
      "image/png": "[encoded data removed]",
      "text/plain": [
       "<Figure size 432x288 with 1 Axes>"
      ]
     },
     "metadata": {
      "needs_background": "light"
     },
     "output_type": "display_data"
    }
   ],
   "source": [
    "X_test_img = X_test[100].flatten().reshape(28, 28)\n",
    "plt.imshow(X_test_img)"
   ]
  },
  {
   "cell_type": "code",
   "execution_count": 44,
   "metadata": {},
   "outputs": [
    {
     "name": "stdout",
     "output_type": "stream",
     "text": [
      "[0. 0. 0. 0. 0. 0. 1. 0. 0. 0.]\n"
     ]
    }
   ],
   "source": [
    "print(y_test[100])"
   ]
  },
  {
   "cell_type": "markdown",
   "metadata": {},
   "source": [
    "# Prepare image for prediction"
   ]
  },
  {
   "cell_type": "code",
   "execution_count": 45,
   "metadata": {},
   "outputs": [],
   "source": [
    "new_image = X_test[100]"
   ]
  },
  {
   "cell_type": "code",
   "execution_count": 46,
   "metadata": {},
   "outputs": [],
   "source": [
    "new_image = keras.preprocessing.image.img_to_array(new_image)"
   ]
  },
  {
   "cell_type": "markdown",
   "metadata": {},
   "source": [
    "Get the image to the shape expected by con2D (BATCH, HEIGHT, WIDTH, CHANNEL)"
   ]
  },
  {
   "cell_type": "code",
   "execution_count": 47,
   "metadata": {},
   "outputs": [],
   "source": [
    "new_image = np.expand_dims(new_image, axis = 0)"
   ]
  },
  {
   "cell_type": "code",
   "execution_count": 48,
   "metadata": {},
   "outputs": [
    {
     "data": {
      "text/plain": [
       "(1, 28, 28, 1)"
      ]
     },
     "execution_count": 48,
     "metadata": {},
     "output_type": "execute_result"
    }
   ],
   "source": [
    "new_image.shape"
   ]
  },
  {
   "cell_type": "code",
   "execution_count": 49,
   "metadata": {},
   "outputs": [],
   "source": [
    "pred_class = loaded_lenet.predict_classes(new_image)"
   ]
  },
  {
   "cell_type": "code",
   "execution_count": 50,
   "metadata": {},
   "outputs": [
    {
     "name": "stdout",
     "output_type": "stream",
     "text": [
      "[6]\n"
     ]
    }
   ],
   "source": [
    "print(pred_class)"
   ]
  },
  {
   "cell_type": "code",
   "execution_count": 51,
   "metadata": {},
   "outputs": [
    {
     "name": "stdout",
     "output_type": "stream",
     "text": [
      "Predicted class name: 6\n"
     ]
    }
   ],
   "source": [
    "print('Predicted class name:', pred_class[0])   "
   ]
  },
  {
   "cell_type": "markdown",
   "metadata": {},
   "source": [
    "# Another prediction..."
   ]
  },
  {
   "cell_type": "code",
   "execution_count": 52,
   "metadata": {},
   "outputs": [
    {
     "data": {
      "text/plain": [
       "<matplotlib.image.AxesImage at 0x1e3448adf08>"
      ]
     },
     "execution_count": 52,
     "metadata": {},
     "output_type": "execute_result"
    },
    {
     "data": {
      "image/png": "[encoded data removed]",
      "text/plain": [
       "<Figure size 432x288 with 1 Axes>"
      ]
     },
     "metadata": {
      "needs_background": "light"
     },
     "output_type": "display_data"
    }
   ],
   "source": [
    "X_test_500 = X_test[500].flatten().reshape(28, 28)\n",
    "plt.imshow(X_test_500)"
   ]
  },
  {
   "cell_type": "code",
   "execution_count": 53,
   "metadata": {},
   "outputs": [
    {
     "name": "stdout",
     "output_type": "stream",
     "text": [
      "[0. 0. 0. 1. 0. 0. 0. 0. 0. 0.]\n"
     ]
    }
   ],
   "source": [
    "print(y_test[500])"
   ]
  },
  {
   "cell_type": "markdown",
   "metadata": {},
   "source": [
    "# Prepare sample image for prediction"
   ]
  },
  {
   "cell_type": "code",
   "execution_count": 54,
   "metadata": {},
   "outputs": [
    {
     "data": {
      "text/plain": [
       "(1, 28, 28, 1)"
      ]
     },
     "execution_count": 54,
     "metadata": {},
     "output_type": "execute_result"
    }
   ],
   "source": [
    "new_image = X_test[500]\n",
    "new_image = keras.preprocessing.image.img_to_array(new_image)\n",
    "new_image = np.expand_dims(new_image, axis = 0)\n",
    "new_image.shape"
   ]
  },
  {
   "cell_type": "markdown",
   "metadata": {},
   "source": [
    "# Prediction"
   ]
  },
  {
   "cell_type": "code",
   "execution_count": 55,
   "metadata": {},
   "outputs": [
    {
     "name": "stdout",
     "output_type": "stream",
     "text": [
      "[3]\n"
     ]
    }
   ],
   "source": [
    "pred_class = loaded_lenet.predict_classes(new_image)\n",
    "print(pred_class)"
   ]
  },
  {
   "cell_type": "code",
   "execution_count": 56,
   "metadata": {},
   "outputs": [
    {
     "name": "stdout",
     "output_type": "stream",
     "text": [
      "Predicted class name: 3\n"
     ]
    }
   ],
   "source": [
    "print('Predicted class name:', pred_class[0])"
   ]
  },
  {
   "cell_type": "code",
   "execution_count": null,
   "metadata": {},
   "outputs": [],
   "source": []
  }
 ],
 "metadata": {
  "kernelspec": {
   "display_name": "Python 3",
   "language": "python",
   "name": "python3"
  },
  "language_info": {
   "codemirror_mode": {
    "name": "ipython",
    "version": 3
   },
   "file_extension": ".py",
   "mimetype": "text/x-python",
   "name": "python",
   "nbconvert_exporter": "python",
   "pygments_lexer": "ipython3",
   "version": "3.7.6"
  }
 },
 "nbformat": 4,
 "nbformat_minor": 4
}

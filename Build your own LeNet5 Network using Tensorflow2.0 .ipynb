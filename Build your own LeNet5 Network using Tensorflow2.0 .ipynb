{
 "cells": [
  {
   "cell_type": "markdown",
   "metadata": {},
   "source": [
    "In this exercise, we are going to train a TensorFlow model and\n",
    "reload it for prediction in TensorFlow 2.0. The data set that we are going to use to train this deep neural network is\n",
    "the standard **MNIST** dataset.\n",
    "**MNIST** dataset contains `70,000` images (in grayscale) in `10` different categories. The images are `28 × 28` pixels of handwritten digits, with values ranging from `0` to `255`. Of the total `70,000` images, `60,000` are used for training, and the remaining `10,000` images are used for testing. The labels are integer arrays ranging from `0` to `9`. Each grayscale image is normalized to fit a `28 × 28` pixel bounding box. "
   ]
  },
  {
   "cell_type": "code",
   "execution_count": 1,
   "metadata": {},
   "outputs": [],
   "source": [
    "import warnings\n",
    "warnings.filterwarnings('ignore')"
   ]
  },
  {
   "cell_type": "markdown",
   "metadata": {},
   "source": [
    "# Import required packages and modules"
   ]
  },
  {
   "cell_type": "code",
   "execution_count": 2,
   "metadata": {},
   "outputs": [
    {
     "name": "stdout",
     "output_type": "stream",
     "text": [
      "2.0.0-beta1\n"
     ]
    }
   ],
   "source": [
    "import numpy as np\n",
    "import tensorflow as tf\n",
    "from tensorflow import keras\n",
    "import matplotlib.pyplot as plt\n",
    "print(tf.__version__)"
   ]
  },
  {
   "cell_type": "markdown",
   "metadata": {},
   "source": [
    "# Load and explore the MNIST dataset"
   ]
  },
  {
   "cell_type": "code",
   "execution_count": 3,
   "metadata": {},
   "outputs": [],
   "source": [
    "(X_train, y_train), (X_test, y_test) = keras.datasets.mnist.load_data()"
   ]
  },
  {
   "cell_type": "code",
   "execution_count": 4,
   "metadata": {},
   "outputs": [
    {
     "name": "stdout",
     "output_type": "stream",
     "text": [
      "Training Images Dataset Shape: (60000, 28, 28)\n",
      "\n",
      "No. of Training Images Dataset Labels: 60000\n",
      "\n",
      "Test Images Dataset Shape: (10000, 28, 28)\n",
      "\n",
      "No. of Test Images Dataset Labels: 10000\n"
     ]
    }
   ],
   "source": [
    "print('Training Images Dataset Shape: {}'.format(X_train.shape))\n",
    "print('\\nNo. of Training Images Dataset Labels: {}'.format(len(y_train)))\n",
    "print('\\nTest Images Dataset Shape: {}'.format(X_test.shape))\n",
    "print('\\nNo. of Test Images Dataset Labels: {}'.format(len(y_test)))"
   ]
  },
  {
   "cell_type": "markdown",
   "metadata": {},
   "source": [
    "# View sample images and print the labels"
   ]
  },
  {
   "cell_type": "code",
   "execution_count": 5,
   "metadata": {},
   "outputs": [
    {
     "data": {
      "text/plain": [
       "<matplotlib.image.AxesImage at 0x209e4af0d08>"
      ]
     },
     "execution_count": 5,
     "metadata": {},
     "output_type": "execute_result"
    },
    {
     "data": {
      "image/png": "[encoded data removed]",
      "text/plain": [
       "<Figure size 432x288 with 1 Axes>"
      ]
     },
     "metadata": {
      "needs_background": "light"
     },
     "output_type": "display_data"
    }
   ],
   "source": [
    "plt.imshow(X_train[100])"
   ]
  },
  {
   "cell_type": "code",
   "execution_count": 6,
   "metadata": {},
   "outputs": [
    {
     "name": "stdout",
     "output_type": "stream",
     "text": [
      "5\n"
     ]
    }
   ],
   "source": [
    "print(y_train[100])"
   ]
  },
  {
   "cell_type": "code",
   "execution_count": 7,
   "metadata": {},
   "outputs": [
    {
     "data": {
      "text/plain": [
       "<matplotlib.image.AxesImage at 0x209e8755f88>"
      ]
     },
     "execution_count": 7,
     "metadata": {},
     "output_type": "execute_result"
    },
    {
     "data": {
      "image/png": "[encoded data removed]",
      "text/plain": [
       "<Figure size 432x288 with 1 Axes>"
      ]
     },
     "metadata": {
      "needs_background": "light"
     },
     "output_type": "display_data"
    }
   ],
   "source": [
    "plt.imshow(X_train[5000])"
   ]
  },
  {
   "cell_type": "code",
   "execution_count": 8,
   "metadata": {},
   "outputs": [
    {
     "name": "stdout",
     "output_type": "stream",
     "text": [
      "7\n"
     ]
    }
   ],
   "source": [
    "print(y_train[5000])"
   ]
  },
  {
   "cell_type": "markdown",
   "metadata": {},
   "source": [
    "# Scaling pixel values"
   ]
  },
  {
   "cell_type": "markdown",
   "metadata": {},
   "source": [
    "As the pixel values range from `0 to 255`, we have to rescale these values in the range `0 to 1` before pushing them to the model. We can scale these feature values (both for training and test data sets) by dividing the values by `255`."
   ]
  },
  {
   "cell_type": "code",
   "execution_count": 9,
   "metadata": {},
   "outputs": [],
   "source": [
    "X_train = X_train / 255.0\n",
    "X_test = X_test / 255.0"
   ]
  },
  {
   "cell_type": "markdown",
   "metadata": {},
   "source": [
    "# Reshape the input images"
   ]
  },
  {
   "cell_type": "markdown",
   "metadata": {},
   "source": [
    "Input image into a convnets is often of the shape (**BATCH, HEIGHT, WIDTH, CHANNEL**). For this dataset it would be `(60000, 28, 28, 1)` for the training image and `(10000, 28, 28, 1)` for the test image data. We can therefore reshape the training and test dataset by reshaping the matrices into a `28 × 28 × 1` array with the last dimension denoting the `gray` channel."
   ]
  },
  {
   "cell_type": "code",
   "execution_count": 10,
   "metadata": {},
   "outputs": [],
   "source": [
    "X_train = X_train.reshape((60000, 28, 28, 1))\n",
    "X_test = X_test.reshape((10000, 28, 28, 1))"
   ]
  },
  {
   "cell_type": "code",
   "execution_count": 11,
   "metadata": {},
   "outputs": [
    {
     "name": "stdout",
     "output_type": "stream",
     "text": [
      "Training Images Dataset Shape: (60000, 28, 28, 1)\n",
      "\n",
      "No. of Training Images Dataset Labels: 60000\n",
      "\n",
      "Test Images Dataset Shape: (10000, 28, 28, 1)\n",
      "\n",
      "No. of Test Images Dataset Labels: 10000\n"
     ]
    }
   ],
   "source": [
    "print('Training Images Dataset Shape: {}'.format(X_train.shape))\n",
    "print('\\nNo. of Training Images Dataset Labels: {}'.format(len(y_train)))\n",
    "print('\\nTest Images Dataset Shape: {}'.format(X_test.shape))\n",
    "print('\\nNo. of Test Images Dataset Labels: {}'.format(len(y_test)))"
   ]
  },
  {
   "cell_type": "markdown",
   "metadata": {},
   "source": [
    "# Transform the target class"
   ]
  },
  {
   "cell_type": "markdown",
   "metadata": {},
   "source": [
    "We need to convert the target class variable\n",
    "(`y_train` and `y_test`) into one-hot encoded vectors that the neural network can understand and work on."
   ]
  },
  {
   "cell_type": "code",
   "execution_count": 12,
   "metadata": {},
   "outputs": [
    {
     "name": "stdout",
     "output_type": "stream",
     "text": [
      "Target classes: [0 1 2 3 4 5 6 7 8 9]\n"
     ]
    }
   ],
   "source": [
    "num_classes = np.unique(y_train)\n",
    "print('Target classes:', num_classes)"
   ]
  },
  {
   "cell_type": "code",
   "execution_count": 13,
   "metadata": {},
   "outputs": [
    {
     "name": "stdout",
     "output_type": "stream",
     "text": [
      "Before encoding:  5 after: [0. 0. 0. 0. 0. 1. 0. 0. 0. 0.]\n"
     ]
    }
   ],
   "source": [
    "print('Before encoding: ', y_train[0], end=' after: ')\n",
    "y_train = keras.utils.to_categorical(y_train, len(num_classes))\n",
    "y_test = keras.utils.to_categorical(y_test, len(num_classes))\n",
    "print(y_train[0])"
   ]
  },
  {
   "cell_type": "markdown",
   "metadata": {},
   "source": [
    "# Image and imput dimensions"
   ]
  },
  {
   "cell_type": "code",
   "execution_count": 14,
   "metadata": {},
   "outputs": [],
   "source": [
    "img_height = X_train.shape[1]\n",
    "img_width = X_train.shape[2]\n",
    "input_shape = (img_height, img_width, 1)"
   ]
  },
  {
   "cell_type": "markdown",
   "metadata": {},
   "source": [
    "# Build the convnet model"
   ]
  },
  {
   "cell_type": "markdown",
   "metadata": {},
   "source": [
    "First layer is a **convolutional** layer with `ReLU` activation function: This layer takes the 2D array (`28 × 28` pixels) as input. We will apply `6` convolutional kernels (filters) of shape `5 × 5` pixels. The output will be passed to a `ReLU` activation function before being passed to the next layer.\n",
    "We are cascading *non-linear* activation function `ReLU` because stacking non-linear function **leads to an increased in model complexity** and consequently an **increase in its capacity to extract features** from training samples."
   ]
  },
  {
   "cell_type": "code",
   "execution_count": 15,
   "metadata": {},
   "outputs": [],
   "source": [
    "lenet5 = keras.models.Sequential()\n",
    "lenet5.add(keras.layers.Conv2D(6, kernel_size = (5, 5), activation = 'relu', input_shape = input_shape, padding ='same', name = 'Conv2D_layer_1'))\n",
    "lenet5.add(keras.layers.AveragePooling2D(pool_size = (2, 2), strides = (1, 1), padding = 'valid'))"
   ]
  },
  {
   "cell_type": "markdown",
   "metadata": {},
   "source": [
    "Second layer above is a **pooling** layer: This layer takes the `6` `27 × 27` `2D` arrays output from first layer as input and transforms them into `16` arrays, with dimensions `23 x 23` (i.e., from `27 × 27` to `23 × 23` pixels) using a **AveragePooling2D** filter of size `(2, 2)`."
   ]
  },
  {
   "cell_type": "code",
   "execution_count": 16,
   "metadata": {},
   "outputs": [],
   "source": [
    "lenet5.add(keras.layers.Conv2D(16, kernel_size = (5, 5), activation = 'relu', padding ='valid', name = 'Conv2D_layer_2'))\n",
    "lenet5.add(keras.layers.AveragePooling2D(pool_size = (2, 2), strides = (1, 1), padding = 'valid'))\n",
    "lenet5.add(keras.layers.Conv2D(120, kernel_size = (5, 5), activation = 'relu', name = 'Conv2D_layer_3'))"
   ]
  },
  {
   "cell_type": "markdown",
   "metadata": {},
   "source": [
    "The subsiquent layers and output layer — **covd2D, AveragePooling2D and fully connected** or **dense** layer: These layers take the `16` `23 × 23` `2D` arrays from layers above as input and transforms it first into `16` `22 × 22` `2D` arrays and `120` `18 × 18` `2D` arrays before flattening it using (**flatten**) layer into a `1D` array of `38880` elements i.e `(120 × 18 × 18)`. These `38880` input elements are passed through a **fully connected** or **dense** or **MLP** layer with `84` units (neurons) and finally through an output layer (MLP) with `10` units and a **softmax** activation function that gives the **probability scores** for each of the `10` output labels."
   ]
  },
  {
   "cell_type": "code",
   "execution_count": 17,
   "metadata": {},
   "outputs": [],
   "source": [
    "lenet5.add(keras.layers.Flatten(name = 'Flatten'))\n",
    "lenet5.add(keras.layers.Dense(84, activation = 'relu', name = 'Dense_layer_1'))\n",
    "lenet5.add(keras.layers.Dense(10, activation = 'softmax', name = 'Output_layer'))"
   ]
  },
  {
   "cell_type": "code",
   "execution_count": 19,
   "metadata": {},
   "outputs": [
    {
     "name": "stdout",
     "output_type": "stream",
     "text": [
      "Model: \"sequential\"\n",
      "_________________________________________________________________\n",
      "Layer (type)                 Output Shape              Param #   \n",
      "=================================================================\n",
      "Conv2D_layer_1 (Conv2D)      (None, 28, 28, 6)         156       \n",
      "_________________________________________________________________\n",
      "average_pooling2d (AveragePo (None, 27, 27, 6)         0         \n",
      "_________________________________________________________________\n",
      "Conv2D_layer_2 (Conv2D)      (None, 23, 23, 16)        2416      \n",
      "_________________________________________________________________\n",
      "average_pooling2d_1 (Average (None, 22, 22, 16)        0         \n",
      "_________________________________________________________________\n",
      "Conv2D_layer_3 (Conv2D)      (None, 18, 18, 120)       48120     \n",
      "_________________________________________________________________\n",
      "Flatten (Flatten)            (None, 38880)             0         \n",
      "_________________________________________________________________\n",
      "Dense_layer_1 (Dense)        (None, 84)                3266004   \n",
      "_________________________________________________________________\n",
      "Output_layer (Dense)         (None, 10)                850       \n",
      "=================================================================\n",
      "Total params: 3,317,546\n",
      "Trainable params: 3,317,546\n",
      "Non-trainable params: 0\n",
      "_________________________________________________________________\n"
     ]
    }
   ],
   "source": [
    "lenet5.summary()"
   ]
  },
  {
   "cell_type": "markdown",
   "metadata": {},
   "source": [
    "# Compile the model"
   ]
  },
  {
   "cell_type": "code",
   "execution_count": 20,
   "metadata": {},
   "outputs": [],
   "source": [
    "lenet5.compile(optimizer = 'SGD', loss = 'categorical_crossentropy', metrics = ['accuracy'])"
   ]
  },
  {
   "cell_type": "markdown",
   "metadata": {},
   "source": [
    "# Train the model"
   ]
  },
  {
   "cell_type": "code",
   "execution_count": 21,
   "metadata": {},
   "outputs": [
    {
     "name": "stdout",
     "output_type": "stream",
     "text": [
      "WARNING:tensorflow:From C:\\Users\\Fusi\\anaconda37\\lib\\site-packages\\tensorflow\\python\\ops\\math_grad.py:1250: add_dispatch_support.<locals>.wrapper (from tensorflow.python.ops.array_ops) is deprecated and will be removed in a future version.\n",
      "Instructions for updating:\n",
      "Use tf.where in 2.0, which has the same broadcast rule as np.where\n",
      "Train on 51000 samples, validate on 9000 samples\n",
      "Epoch 1/50\n",
      "51000/51000 [==============================] - 134s 3ms/sample - loss: 0.4248 - accuracy: 0.8750 - val_loss: 0.1742 - val_accuracy: 0.9450\n",
      "Epoch 2/50\n",
      "51000/51000 [==============================] - 135s 3ms/sample - loss: 0.1333 - accuracy: 0.9598 - val_loss: 0.0960 - val_accuracy: 0.9708\n",
      "Epoch 3/50\n",
      "51000/51000 [==============================] - 135s 3ms/sample - loss: 0.0899 - accuracy: 0.9730 - val_loss: 0.0887 - val_accuracy: 0.9736\n",
      "Epoch 4/50\n",
      "51000/51000 [==============================] - 136s 3ms/sample - loss: 0.0689 - accuracy: 0.9787 - val_loss: 0.0703 - val_accuracy: 0.9788\n",
      "Epoch 5/50\n",
      "51000/51000 [==============================] - 135s 3ms/sample - loss: 0.0558 - accuracy: 0.9825 - val_loss: 0.0817 - val_accuracy: 0.9771\n",
      "Epoch 6/50\n",
      "51000/51000 [==============================] - 136s 3ms/sample - loss: 0.0471 - accuracy: 0.9855 - val_loss: 0.0567 - val_accuracy: 0.9832\n",
      "Epoch 7/50\n",
      "51000/51000 [==============================] - 141s 3ms/sample - loss: 0.0405 - accuracy: 0.9872 - val_loss: 0.0555 - val_accuracy: 0.9831\n",
      "Epoch 8/50\n",
      "51000/51000 [==============================] - 136s 3ms/sample - loss: 0.0338 - accuracy: 0.9893 - val_loss: 0.0518 - val_accuracy: 0.9851\n",
      "Epoch 9/50\n",
      "51000/51000 [==============================] - 137s 3ms/sample - loss: 0.0293 - accuracy: 0.9912 - val_loss: 0.0495 - val_accuracy: 0.9860\n",
      "Epoch 10/50\n",
      "51000/51000 [==============================] - 136s 3ms/sample - loss: 0.0251 - accuracy: 0.9921 - val_loss: 0.0529 - val_accuracy: 0.9860\n",
      "Epoch 11/50\n",
      "51000/51000 [==============================] - 137s 3ms/sample - loss: 0.0217 - accuracy: 0.9933 - val_loss: 0.0588 - val_accuracy: 0.9843\n",
      "Epoch 12/50\n",
      "51000/51000 [==============================] - 137s 3ms/sample - loss: 0.0185 - accuracy: 0.9943 - val_loss: 0.0509 - val_accuracy: 0.9862\n",
      "Epoch 13/50\n",
      "51000/51000 [==============================] - 136s 3ms/sample - loss: 0.0157 - accuracy: 0.9955 - val_loss: 0.0500 - val_accuracy: 0.9870\n",
      "Epoch 14/50\n",
      "51000/51000 [==============================] - 134s 3ms/sample - loss: 0.0131 - accuracy: 0.9960 - val_loss: 0.0514 - val_accuracy: 0.9856\n",
      "Epoch 15/50\n",
      "51000/51000 [==============================] - 136s 3ms/sample - loss: 0.0115 - accuracy: 0.9967 - val_loss: 0.0589 - val_accuracy: 0.9843\n",
      "Epoch 16/50\n",
      "51000/51000 [==============================] - 134s 3ms/sample - loss: 0.0103 - accuracy: 0.9969 - val_loss: 0.0599 - val_accuracy: 0.9850\n",
      "Epoch 17/50\n",
      "51000/51000 [==============================] - 134s 3ms/sample - loss: 0.0094 - accuracy: 0.9969 - val_loss: 0.0477 - val_accuracy: 0.9881\n",
      "Epoch 18/50\n",
      "51000/51000 [==============================] - 134s 3ms/sample - loss: 0.0076 - accuracy: 0.9978 - val_loss: 0.0527 - val_accuracy: 0.9878\n",
      "Epoch 19/50\n",
      "51000/51000 [==============================] - 134s 3ms/sample - loss: 0.0075 - accuracy: 0.9977 - val_loss: 0.0560 - val_accuracy: 0.9870\n",
      "Epoch 20/50\n",
      "51000/51000 [==============================] - 134s 3ms/sample - loss: 0.0055 - accuracy: 0.9985 - val_loss: 0.0551 - val_accuracy: 0.9869\n",
      "Epoch 21/50\n",
      "51000/51000 [==============================] - 134s 3ms/sample - loss: 0.0046 - accuracy: 0.9986 - val_loss: 0.0527 - val_accuracy: 0.9879\n",
      "Epoch 22/50\n",
      "51000/51000 [==============================] - 134s 3ms/sample - loss: 0.0028 - accuracy: 0.9994 - val_loss: 0.0586 - val_accuracy: 0.9880\n",
      "Epoch 23/50\n",
      "51000/51000 [==============================] - 134s 3ms/sample - loss: 0.0030 - accuracy: 0.9995 - val_loss: 0.0561 - val_accuracy: 0.9876\n",
      "Epoch 24/50\n",
      "51000/51000 [==============================] - 134s 3ms/sample - loss: 0.0021 - accuracy: 0.9997 - val_loss: 0.0585 - val_accuracy: 0.9870\n",
      "Epoch 25/50\n",
      "51000/51000 [==============================] - 135s 3ms/sample - loss: 0.0022 - accuracy: 0.9996 - val_loss: 0.0601 - val_accuracy: 0.9868\n",
      "Epoch 26/50\n",
      "51000/51000 [==============================] - 134s 3ms/sample - loss: 0.0019 - accuracy: 0.9996 - val_loss: 0.0568 - val_accuracy: 0.9878\n",
      "Epoch 27/50\n",
      "51000/51000 [==============================] - 134s 3ms/sample - loss: 0.0017 - accuracy: 0.9996 - val_loss: 0.0594 - val_accuracy: 0.9871\n",
      "Epoch 28/50\n",
      "51000/51000 [==============================] - 134s 3ms/sample - loss: 0.0012 - accuracy: 0.9998 - val_loss: 0.0665 - val_accuracy: 0.9863\n",
      "Epoch 29/50\n",
      "51000/51000 [==============================] - 135s 3ms/sample - loss: 0.0013 - accuracy: 0.9997 - val_loss: 0.0640 - val_accuracy: 0.9868\n",
      "Epoch 30/50\n",
      "51000/51000 [==============================] - 134s 3ms/sample - loss: 7.1294e-04 - accuracy: 0.9999 - val_loss: 0.0611 - val_accuracy: 0.9882\n",
      "Epoch 31/50\n",
      "51000/51000 [==============================] - 134s 3ms/sample - loss: 5.1726e-04 - accuracy: 1.0000 - val_loss: 0.0637 - val_accuracy: 0.9870\n",
      "Epoch 32/50\n",
      "51000/51000 [==============================] - 135s 3ms/sample - loss: 0.0021 - accuracy: 0.9994 - val_loss: 0.0693 - val_accuracy: 0.9873\n",
      "Epoch 33/50\n",
      "51000/51000 [==============================] - 136s 3ms/sample - loss: 0.0013 - accuracy: 0.9999 - val_loss: 0.0607 - val_accuracy: 0.9881\n",
      "Epoch 34/50\n",
      "51000/51000 [==============================] - 136s 3ms/sample - loss: 6.9153e-04 - accuracy: 0.9999 - val_loss: 0.0612 - val_accuracy: 0.9879\n",
      "Epoch 35/50\n",
      "51000/51000 [==============================] - 134s 3ms/sample - loss: 3.7018e-04 - accuracy: 1.0000 - val_loss: 0.0635 - val_accuracy: 0.9880\n",
      "Epoch 36/50\n",
      "51000/51000 [==============================] - 134s 3ms/sample - loss: 3.1486e-04 - accuracy: 1.0000 - val_loss: 0.0637 - val_accuracy: 0.9877\n",
      "Epoch 37/50\n",
      "51000/51000 [==============================] - 135s 3ms/sample - loss: 2.9022e-04 - accuracy: 1.0000 - val_loss: 0.0645 - val_accuracy: 0.9879\n",
      "Epoch 38/50\n",
      "51000/51000 [==============================] - 137s 3ms/sample - loss: 2.6401e-04 - accuracy: 1.0000 - val_loss: 0.0641 - val_accuracy: 0.9880\n",
      "Epoch 39/50\n",
      "51000/51000 [==============================] - 135s 3ms/sample - loss: 2.4361e-04 - accuracy: 1.0000 - val_loss: 0.0654 - val_accuracy: 0.9878\n",
      "Epoch 40/50\n",
      "51000/51000 [==============================] - 133s 3ms/sample - loss: 2.3072e-04 - accuracy: 1.0000 - val_loss: 0.0662 - val_accuracy: 0.9878\n",
      "Epoch 41/50\n",
      "51000/51000 [==============================] - 133s 3ms/sample - loss: 2.0655e-04 - accuracy: 1.0000 - val_loss: 0.0666 - val_accuracy: 0.9876\n",
      "Epoch 42/50\n",
      "51000/51000 [==============================] - 133s 3ms/sample - loss: 1.9372e-04 - accuracy: 1.0000 - val_loss: 0.0666 - val_accuracy: 0.9877\n",
      "Epoch 43/50\n",
      "51000/51000 [==============================] - 133s 3ms/sample - loss: 1.8424e-04 - accuracy: 1.0000 - val_loss: 0.0672 - val_accuracy: 0.9877\n",
      "Epoch 44/50\n",
      "51000/51000 [==============================] - 133s 3ms/sample - loss: 1.7202e-04 - accuracy: 1.0000 - val_loss: 0.0679 - val_accuracy: 0.9876\n",
      "Epoch 45/50\n",
      "51000/51000 [==============================] - 133s 3ms/sample - loss: 1.6649e-04 - accuracy: 1.0000 - val_loss: 0.0684 - val_accuracy: 0.9876\n",
      "Epoch 46/50\n",
      "51000/51000 [==============================] - 133s 3ms/sample - loss: 1.5911e-04 - accuracy: 1.0000 - val_loss: 0.0683 - val_accuracy: 0.9877\n",
      "Epoch 47/50\n",
      "51000/51000 [==============================] - 133s 3ms/sample - loss: 1.5143e-04 - accuracy: 1.0000 - val_loss: 0.0689 - val_accuracy: 0.9878\n",
      "Epoch 48/50\n",
      "51000/51000 [==============================] - 133s 3ms/sample - loss: 1.4619e-04 - accuracy: 1.0000 - val_loss: 0.0691 - val_accuracy: 0.9877\n",
      "Epoch 49/50\n",
      "51000/51000 [==============================] - 133s 3ms/sample - loss: 1.4015e-04 - accuracy: 1.0000 - val_loss: 0.0693 - val_accuracy: 0.9876\n",
      "Epoch 50/50\n",
      "51000/51000 [==============================] - 133s 3ms/sample - loss: 1.3533e-04 - accuracy: 1.0000 - val_loss: 0.0698 - val_accuracy: 0.9876\n"
     ]
    }
   ],
   "source": [
    "batch_size = 64\n",
    "epochs = 50\n",
    "history = lenet5.fit(X_train, y_train, batch_size = batch_size, epochs = epochs, validation_split = 0.15)"
   ]
  },
  {
   "cell_type": "markdown",
   "metadata": {},
   "source": [
    "# Model Evaluation - list all data in history"
   ]
  },
  {
   "cell_type": "code",
   "execution_count": 22,
   "metadata": {},
   "outputs": [
    {
     "name": "stdout",
     "output_type": "stream",
     "text": [
      "dict_keys(['loss', 'accuracy', 'val_loss', 'val_accuracy'])\n"
     ]
    }
   ],
   "source": [
    "print(history.history.keys())"
   ]
  },
  {
   "cell_type": "code",
   "execution_count": 23,
   "metadata": {},
   "outputs": [],
   "source": [
    "train_acc = history.history['accuracy']\n",
    "val_acc = history.history['val_accuracy']\n",
    "train_loss = history.history['loss']\n",
    "val_loss = history.history['val_loss']"
   ]
  },
  {
   "cell_type": "code",
   "execution_count": 24,
   "metadata": {},
   "outputs": [
    {
     "name": "stdout",
     "output_type": "stream",
     "text": [
      "Training Accuracy: 99.35%\n"
     ]
    }
   ],
   "source": [
    "print('Training Accuracy: {}%'.format(round(sum(train_acc) / len(train_acc) * 100, 2)))"
   ]
  },
  {
   "cell_type": "code",
   "execution_count": 25,
   "metadata": {},
   "outputs": [
    {
     "name": "stdout",
     "output_type": "stream",
     "text": [
      "Validation Accuracy: 98.52%\n"
     ]
    }
   ],
   "source": [
    "print('Validation Accuracy: {}%'.format(round(sum(val_acc) / len(val_acc) * 100, 2)))"
   ]
  },
  {
   "cell_type": "code",
   "execution_count": 26,
   "metadata": {},
   "outputs": [
    {
     "name": "stdout",
     "output_type": "stream",
     "text": [
      "10000/10000 [==============================] - 7s 708us/sample - loss: 0.0630 - accuracy: 0.9881\n"
     ]
    }
   ],
   "source": [
    "test_loss, test_accuracy = lenet5.evaluate(X_test, y_test)"
   ]
  },
  {
   "cell_type": "code",
   "execution_count": 27,
   "metadata": {},
   "outputs": [
    {
     "name": "stdout",
     "output_type": "stream",
     "text": [
      "Test Accuracy: 98.81%\n"
     ]
    }
   ],
   "source": [
    "print('Test Accuracy: {}%'.format(round(float(test_accuracy) * 100, 2)))"
   ]
  },
  {
   "cell_type": "markdown",
   "metadata": {},
   "source": [
    "# Plot scores"
   ]
  },
  {
   "cell_type": "code",
   "execution_count": 28,
   "metadata": {},
   "outputs": [
    {
     "data": {
      "text/plain": [
       "<matplotlib.legend.Legend at 0x20984089f88>"
      ]
     },
     "execution_count": 28,
     "metadata": {},
     "output_type": "execute_result"
    },
    {
     "data": {
      "image/png": "[encoded data removed]",
      "text/plain": [
       "<Figure size 432x288 with 1 Axes>"
      ]
     },
     "metadata": {
      "needs_background": "light"
     },
     "output_type": "display_data"
    },
    {
     "data": {
      "image/png": "[encoded data removed]",
      "text/plain": [
       "<Figure size 432x288 with 1 Axes>"
      ]
     },
     "metadata": {
      "needs_background": "light"
     },
     "output_type": "display_data"
    }
   ],
   "source": [
    "x_epochs = range(1, epochs + 1)\n",
    "\n",
    "plt.plot(x_epochs, train_acc, 'bo', label='Training acc')\n",
    "plt.plot(x_epochs, val_acc, 'b', label='Validation acc')\n",
    "plt.title('Training and validation accuracy')\n",
    "plt.xlabel(\"Epochs\")\n",
    "plt.ylabel(\"Accuracy\")\n",
    "plt.legend()\n",
    "\n",
    "plt.figure()\n",
    "\n",
    "plt.plot(x_epochs, train_loss, 'bo', label='Training loss')\n",
    "plt.plot(x_epochs, val_loss, 'b', label='Validation loss')\n",
    "plt.title('Training and validation loss')\n",
    "plt.xlabel(\"Epochs\")\n",
    "plt.ylabel(\"Loss\")\n",
    "plt.legend()"
   ]
  },
  {
   "cell_type": "markdown",
   "metadata": {},
   "source": [
    "These plots are characteristic of overfitting. Our training accuracy increases linearly over time, until it reaches nearly `100%`, while our validation accuracy stalls at `98%`. Our validation loss reaches its minimum after only five epochs then stalls, while the training loss keeps decreasing linearly until it reaches nearly 0.\n",
    "\n",
    "Because we already have relatively sufficient training samples (51000), we are going to combat this overfitting using techniques such as **dropout** and weight decay (**L2 regularization**).\n",
    "\n",
    "The creator of dropout *Geof Hinton* claimed that overfitting occurs due to some kind of *\"conspiracies\"* between lower and upper layers of the network. These *conspiracies* can be prevented by introducing some noise in the output values of a layer. This would force an upper layer to work independently rather than simply memorizing what the lower layers have learned."
   ]
  },
  {
   "cell_type": "markdown",
   "metadata": {},
   "source": [
    "# Model with Dropout"
   ]
  },
  {
   "cell_type": "code",
   "execution_count": 29,
   "metadata": {},
   "outputs": [],
   "source": [
    "dpt_lenet5 = keras.models.Sequential()\n",
    "dpt_lenet5.add(keras.layers.Conv2D(6, kernel_size = (5, 5), activation = 'relu', input_shape = input_shape, padding ='same', name = 'Conv2D_layer_1'))\n",
    "dpt_lenet5.add(keras.layers.Dropout(0.5))\n",
    "dpt_lenet5.add(keras.layers.AveragePooling2D(pool_size = (2, 2), strides = (1, 1), padding = 'valid'))\n",
    "dpt_lenet5.add(keras.layers.Conv2D(16, kernel_size = (5, 5), activation = 'relu', padding ='valid', name = 'Conv2D_layer_2'))\n",
    "dpt_lenet5.add(keras.layers.Dropout(0.5))\n",
    "dpt_lenet5.add(keras.layers.AveragePooling2D(pool_size = (2, 2), strides = (1, 1), padding = 'valid'))\n",
    "dpt_lenet5.add(keras.layers.Conv2D(120, kernel_size = (5, 5), activation = 'relu', name = 'Conv2D_layer_3'))\n",
    "dpt_lenet5.add(keras.layers.Dropout(0.5))\n",
    "dpt_lenet5.add(keras.layers.Flatten(name = 'Flatten'))\n",
    "dpt_lenet5.add(keras.layers.Dense(84, activation = 'relu', name = 'Dense_layer_1'))\n",
    "dpt_lenet5.add(keras.layers.Dense(10, activation = 'softmax', name = 'Output_layer'))\n",
    "\n",
    "dpt_lenet5.compile(optimizer = 'SGD', loss = 'categorical_crossentropy', metrics = ['accuracy'])"
   ]
  },
  {
   "cell_type": "code",
   "execution_count": 30,
   "metadata": {},
   "outputs": [
    {
     "name": "stdout",
     "output_type": "stream",
     "text": [
      "Train on 51000 samples, validate on 9000 samples\n",
      "Epoch 1/50\n",
      "51000/51000 [==============================] - 172s 3ms/sample - loss: 0.5640 - accuracy: 0.8239 - val_loss: 0.1940 - val_accuracy: 0.9486\n",
      "Epoch 2/50\n",
      "51000/51000 [==============================] - 172s 3ms/sample - loss: 0.1885 - accuracy: 0.9431 - val_loss: 0.1103 - val_accuracy: 0.9702\n",
      "Epoch 3/50\n",
      "51000/51000 [==============================] - 173s 3ms/sample - loss: 0.1358 - accuracy: 0.9590 - val_loss: 0.0878 - val_accuracy: 0.9753\n",
      "Epoch 4/50\n",
      "51000/51000 [==============================] - 172s 3ms/sample - loss: 0.1086 - accuracy: 0.9671 - val_loss: 0.0682 - val_accuracy: 0.9813\n",
      "Epoch 5/50\n",
      "51000/51000 [==============================] - 172s 3ms/sample - loss: 0.0922 - accuracy: 0.9710 - val_loss: 0.0638 - val_accuracy: 0.9822\n",
      "Epoch 6/50\n",
      "51000/51000 [==============================] - 171s 3ms/sample - loss: 0.0827 - accuracy: 0.9742 - val_loss: 0.0593 - val_accuracy: 0.9829\n",
      "Epoch 7/50\n",
      "51000/51000 [==============================] - 172s 3ms/sample - loss: 0.0734 - accuracy: 0.9770 - val_loss: 0.0602 - val_accuracy: 0.9839\n",
      "Epoch 8/50\n",
      "51000/51000 [==============================] - 177s 3ms/sample - loss: 0.0667 - accuracy: 0.9788 - val_loss: 0.0525 - val_accuracy: 0.9860\n",
      "Epoch 9/50\n",
      "51000/51000 [==============================] - 174s 3ms/sample - loss: 0.0627 - accuracy: 0.9801 - val_loss: 0.0504 - val_accuracy: 0.9857\n",
      "Epoch 10/50\n",
      "51000/51000 [==============================] - 173s 3ms/sample - loss: 0.0575 - accuracy: 0.9818 - val_loss: 0.0500 - val_accuracy: 0.9868\n",
      "Epoch 11/50\n",
      "51000/51000 [==============================] - 174s 3ms/sample - loss: 0.0529 - accuracy: 0.9825 - val_loss: 0.0511 - val_accuracy: 0.9869\n",
      "Epoch 12/50\n",
      "51000/51000 [==============================] - 174s 3ms/sample - loss: 0.0490 - accuracy: 0.9838 - val_loss: 0.0500 - val_accuracy: 0.9860\n",
      "Epoch 13/50\n",
      "51000/51000 [==============================] - 174s 3ms/sample - loss: 0.0485 - accuracy: 0.9846 - val_loss: 0.0487 - val_accuracy: 0.9858\n",
      "Epoch 14/50\n",
      "51000/51000 [==============================] - 174s 3ms/sample - loss: 0.0447 - accuracy: 0.9855 - val_loss: 0.0447 - val_accuracy: 0.9862\n",
      "Epoch 15/50\n",
      "51000/51000 [==============================] - 173s 3ms/sample - loss: 0.0414 - accuracy: 0.9865 - val_loss: 0.0454 - val_accuracy: 0.9883\n",
      "Epoch 16/50\n",
      "51000/51000 [==============================] - 174s 3ms/sample - loss: 0.0400 - accuracy: 0.9875 - val_loss: 0.0421 - val_accuracy: 0.9888\n",
      "Epoch 17/50\n",
      "51000/51000 [==============================] - 174s 3ms/sample - loss: 0.0387 - accuracy: 0.9869 - val_loss: 0.0455 - val_accuracy: 0.9882\n",
      "Epoch 18/50\n",
      "51000/51000 [==============================] - 174s 3ms/sample - loss: 0.0371 - accuracy: 0.9880 - val_loss: 0.0412 - val_accuracy: 0.9891\n",
      "Epoch 19/50\n",
      "51000/51000 [==============================] - 174s 3ms/sample - loss: 0.0337 - accuracy: 0.9890 - val_loss: 0.0448 - val_accuracy: 0.9882\n",
      "Epoch 20/50\n",
      "51000/51000 [==============================] - 174s 3ms/sample - loss: 0.0345 - accuracy: 0.9888 - val_loss: 0.0412 - val_accuracy: 0.9892\n",
      "Epoch 21/50\n",
      "51000/51000 [==============================] - 174s 3ms/sample - loss: 0.0326 - accuracy: 0.9892 - val_loss: 0.0396 - val_accuracy: 0.9894\n",
      "Epoch 22/50\n",
      "51000/51000 [==============================] - 173s 3ms/sample - loss: 0.0303 - accuracy: 0.9904 - val_loss: 0.0439 - val_accuracy: 0.9893\n",
      "Epoch 23/50\n",
      "51000/51000 [==============================] - 173s 3ms/sample - loss: 0.0293 - accuracy: 0.9901 - val_loss: 0.0407 - val_accuracy: 0.9896\n",
      "Epoch 24/50\n",
      "51000/51000 [==============================] - 173s 3ms/sample - loss: 0.0281 - accuracy: 0.9907 - val_loss: 0.0413 - val_accuracy: 0.9893\n",
      "Epoch 25/50\n",
      "51000/51000 [==============================] - 174s 3ms/sample - loss: 0.0278 - accuracy: 0.9906 - val_loss: 0.0405 - val_accuracy: 0.9896\n",
      "Epoch 26/50\n",
      "51000/51000 [==============================] - 174s 3ms/sample - loss: 0.0258 - accuracy: 0.9914 - val_loss: 0.0437 - val_accuracy: 0.9883\n",
      "Epoch 27/50\n",
      "51000/51000 [==============================] - 174s 3ms/sample - loss: 0.0248 - accuracy: 0.9919 - val_loss: 0.0397 - val_accuracy: 0.9892\n",
      "Epoch 28/50\n",
      "51000/51000 [==============================] - 175s 3ms/sample - loss: 0.0232 - accuracy: 0.9921 - val_loss: 0.0406 - val_accuracy: 0.9900\n",
      "Epoch 29/50\n",
      "51000/51000 [==============================] - 174s 3ms/sample - loss: 0.0234 - accuracy: 0.9924 - val_loss: 0.0407 - val_accuracy: 0.9892\n",
      "Epoch 30/50\n",
      "51000/51000 [==============================] - 174s 3ms/sample - loss: 0.0225 - accuracy: 0.9924 - val_loss: 0.0417 - val_accuracy: 0.9889\n",
      "Epoch 31/50\n",
      "51000/51000 [==============================] - 174s 3ms/sample - loss: 0.0212 - accuracy: 0.9930 - val_loss: 0.0410 - val_accuracy: 0.9891\n",
      "Epoch 32/50\n",
      "51000/51000 [==============================] - 174s 3ms/sample - loss: 0.0201 - accuracy: 0.9933 - val_loss: 0.0405 - val_accuracy: 0.9893\n",
      "Epoch 33/50\n",
      "51000/51000 [==============================] - 173s 3ms/sample - loss: 0.0220 - accuracy: 0.9925 - val_loss: 0.0403 - val_accuracy: 0.9899\n",
      "Epoch 34/50\n",
      "51000/51000 [==============================] - 174s 3ms/sample - loss: 0.0181 - accuracy: 0.9937 - val_loss: 0.0452 - val_accuracy: 0.9887\n",
      "Epoch 35/50\n",
      "51000/51000 [==============================] - 174s 3ms/sample - loss: 0.0189 - accuracy: 0.9933 - val_loss: 0.0412 - val_accuracy: 0.9901\n",
      "Epoch 36/50\n",
      "51000/51000 [==============================] - 175s 3ms/sample - loss: 0.0193 - accuracy: 0.9936 - val_loss: 0.0418 - val_accuracy: 0.9899\n",
      "Epoch 37/50\n",
      "51000/51000 [==============================] - 173s 3ms/sample - loss: 0.0189 - accuracy: 0.9939 - val_loss: 0.0422 - val_accuracy: 0.9893\n",
      "Epoch 38/50\n",
      "51000/51000 [==============================] - 174s 3ms/sample - loss: 0.0170 - accuracy: 0.9942 - val_loss: 0.0416 - val_accuracy: 0.9897\n",
      "Epoch 39/50\n",
      "51000/51000 [==============================] - 175s 3ms/sample - loss: 0.0169 - accuracy: 0.9943 - val_loss: 0.0400 - val_accuracy: 0.9899\n",
      "Epoch 40/50\n",
      "51000/51000 [==============================] - 174s 3ms/sample - loss: 0.0162 - accuracy: 0.9945 - val_loss: 0.0390 - val_accuracy: 0.9892\n",
      "Epoch 41/50\n",
      "51000/51000 [==============================] - 174s 3ms/sample - loss: 0.0162 - accuracy: 0.9948 - val_loss: 0.0407 - val_accuracy: 0.9901\n",
      "Epoch 42/50\n",
      "51000/51000 [==============================] - 173s 3ms/sample - loss: 0.0151 - accuracy: 0.9950 - val_loss: 0.0396 - val_accuracy: 0.9901\n",
      "Epoch 43/50\n",
      "51000/51000 [==============================] - 173s 3ms/sample - loss: 0.0147 - accuracy: 0.9950 - val_loss: 0.0401 - val_accuracy: 0.9906\n",
      "Epoch 44/50\n",
      "51000/51000 [==============================] - 177s 3ms/sample - loss: 0.0142 - accuracy: 0.9949 - val_loss: 0.0451 - val_accuracy: 0.9902\n",
      "Epoch 45/50\n",
      "51000/51000 [==============================] - 168s 3ms/sample - loss: 0.0140 - accuracy: 0.9952 - val_loss: 0.0449 - val_accuracy: 0.9889\n",
      "Epoch 46/50\n",
      "51000/51000 [==============================] - 169s 3ms/sample - loss: 0.0139 - accuracy: 0.9953 - val_loss: 0.0430 - val_accuracy: 0.9900\n",
      "Epoch 47/50\n",
      "51000/51000 [==============================] - 171s 3ms/sample - loss: 0.0125 - accuracy: 0.9957 - val_loss: 0.0431 - val_accuracy: 0.9894\n",
      "Epoch 48/50\n",
      "51000/51000 [==============================] - 169s 3ms/sample - loss: 0.0143 - accuracy: 0.9950 - val_loss: 0.0432 - val_accuracy: 0.9894\n",
      "Epoch 49/50\n",
      "51000/51000 [==============================] - 171s 3ms/sample - loss: 0.0142 - accuracy: 0.9952 - val_loss: 0.0409 - val_accuracy: 0.9903\n",
      "Epoch 50/50\n",
      "51000/51000 [==============================] - 171s 3ms/sample - loss: 0.0120 - accuracy: 0.9959 - val_loss: 0.0397 - val_accuracy: 0.9903\n"
     ]
    }
   ],
   "source": [
    "batch_size = 64\n",
    "epochs = 50\n",
    "dpt_history = dpt_lenet5.fit(X_train, y_train, batch_size = batch_size, epochs = epochs, validation_split = 0.15)"
   ]
  },
  {
   "cell_type": "markdown",
   "metadata": {},
   "source": [
    "# Evaluate the model"
   ]
  },
  {
   "cell_type": "code",
   "execution_count": 31,
   "metadata": {},
   "outputs": [
    {
     "name": "stdout",
     "output_type": "stream",
     "text": [
      "dict_keys(['loss', 'accuracy', 'val_loss', 'val_accuracy'])\n"
     ]
    }
   ],
   "source": [
    "print(dpt_history.history.keys())\n",
    "dpt_train_acc = dpt_history.history['accuracy']\n",
    "dpt_val_acc = dpt_history.history['val_accuracy']\n",
    "dpt_train_loss = dpt_history.history['loss']\n",
    "dpt_val_loss = dpt_history.history['val_loss']"
   ]
  },
  {
   "cell_type": "code",
   "execution_count": 32,
   "metadata": {},
   "outputs": [
    {
     "name": "stdout",
     "output_type": "stream",
     "text": [
      "Training Accuracy: 98.44%\n",
      "Validation Accuracy: 98.69%\n"
     ]
    }
   ],
   "source": [
    "print('Training Accuracy: {}%'.format(round(sum(dpt_train_acc) / len(dpt_train_acc) * 100, 2)))\n",
    "print('Validation Accuracy: {}%'.format(round(sum(dpt_val_acc) / len(dpt_val_acc) * 100, 2)))"
   ]
  },
  {
   "cell_type": "code",
   "execution_count": 33,
   "metadata": {},
   "outputs": [
    {
     "name": "stdout",
     "output_type": "stream",
     "text": [
      "10000/10000 [==============================] - 7s 708us/sample - loss: 0.0630 - accuracy: 0.9881\n"
     ]
    }
   ],
   "source": [
    "dpt_test_loss, dpt_test_accuracy = lenet5.evaluate(X_test, y_test)"
   ]
  },
  {
   "cell_type": "code",
   "execution_count": 34,
   "metadata": {},
   "outputs": [
    {
     "name": "stdout",
     "output_type": "stream",
     "text": [
      "Test Accuracy: 98.81%\n"
     ]
    }
   ],
   "source": [
    "print('Test Accuracy: {}%'.format(round(float(dpt_test_accuracy) * 100, 2)))"
   ]
  },
  {
   "cell_type": "code",
   "execution_count": 35,
   "metadata": {},
   "outputs": [
    {
     "data": {
      "text/plain": [
       "<matplotlib.legend.Legend at 0x209868c2988>"
      ]
     },
     "execution_count": 35,
     "metadata": {},
     "output_type": "execute_result"
    },
    {
     "data": {
      "image/png": "[encoded data removed]",
      "text/plain": [
       "<Figure size 432x288 with 1 Axes>"
      ]
     },
     "metadata": {
      "needs_background": "light"
     },
     "output_type": "display_data"
    },
    {
     "data": {
      "image/png": "[encoded data removed]",
      "text/plain": [
       "<Figure size 432x288 with 1 Axes>"
      ]
     },
     "metadata": {
      "needs_background": "light"
     },
     "output_type": "display_data"
    }
   ],
   "source": [
    "x_epochs = range(1, epochs + 1)\n",
    "\n",
    "plt.plot(x_epochs, dpt_train_acc, 'bo', label='Training acc')\n",
    "plt.plot(x_epochs, dpt_val_acc, 'b', label='Validation acc')\n",
    "plt.title('Training and validation accuracy')\n",
    "plt.xlabel(\"Epochs\")\n",
    "plt.ylabel(\"Accuracy\")\n",
    "plt.legend()\n",
    "\n",
    "plt.figure()\n",
    "\n",
    "plt.plot(x_epochs, dpt_train_loss, 'bo', label='Training loss')\n",
    "plt.plot(x_epochs, dpt_val_loss, 'b', label='Validation loss')\n",
    "plt.title('Training and validation loss')\n",
    "plt.xlabel(\"Epochs\")\n",
    "plt.ylabel(\"Loss\")\n",
    "plt.legend()"
   ]
  },
  {
   "cell_type": "markdown",
   "metadata": {},
   "source": [
    "Wow! It seems we actually succceeded in preventing the *consipiracies* between lower and upper layers of our network by applying dropouts! We have training and test accuracies above `98%` and both trainig accuracies and losses appear to converge. There is room to achieve a score above 99% if we apply additional techniques to mitigate overfitting such as *batch normalization*."
   ]
  },
  {
   "cell_type": "markdown",
   "metadata": {},
   "source": [
    "# Save the model as a Keras model"
   ]
  },
  {
   "cell_type": "code",
   "execution_count": 36,
   "metadata": {},
   "outputs": [],
   "source": [
    "model_path = './model/dpt_lenet5.h5'\n",
    "dpt_lenet5.save(model_path)"
   ]
  },
  {
   "cell_type": "markdown",
   "metadata": {},
   "source": [
    "# Load model for prediction"
   ]
  },
  {
   "cell_type": "code",
   "execution_count": 37,
   "metadata": {},
   "outputs": [],
   "source": [
    "loaded_lenet5 = keras.models.load_model(model_path)"
   ]
  },
  {
   "cell_type": "markdown",
   "metadata": {},
   "source": [
    "In the following example, we load a test image (100), and then we will use our saved model to make a prediction about this image."
   ]
  },
  {
   "cell_type": "code",
   "execution_count": 38,
   "metadata": {},
   "outputs": [
    {
     "data": {
      "text/plain": [
       "<matplotlib.image.AxesImage at 0x20988ddbac8>"
      ]
     },
     "execution_count": 38,
     "metadata": {},
     "output_type": "execute_result"
    },
    {
     "data": {
      "image/png": "[encoded data removed]",
      "text/plain": [
       "<Figure size 432x288 with 1 Axes>"
      ]
     },
     "metadata": {
      "needs_background": "light"
     },
     "output_type": "display_data"
    }
   ],
   "source": [
    "X_test_img = X_test[100].flatten().reshape(28, 28)\n",
    "plt.imshow(X_test_img)"
   ]
  },
  {
   "cell_type": "code",
   "execution_count": 39,
   "metadata": {},
   "outputs": [
    {
     "name": "stdout",
     "output_type": "stream",
     "text": [
      "[0. 0. 0. 0. 0. 0. 1. 0. 0. 0.]\n"
     ]
    }
   ],
   "source": [
    "print(y_test[100])"
   ]
  },
  {
   "cell_type": "markdown",
   "metadata": {},
   "source": [
    "# Prepare image for prediction"
   ]
  },
  {
   "cell_type": "code",
   "execution_count": 40,
   "metadata": {},
   "outputs": [],
   "source": [
    "new_image = X_test[100]"
   ]
  },
  {
   "cell_type": "code",
   "execution_count": 41,
   "metadata": {},
   "outputs": [],
   "source": [
    "new_image = keras.preprocessing.image.img_to_array(new_image)"
   ]
  },
  {
   "cell_type": "markdown",
   "metadata": {},
   "source": [
    "Get the image to the shape expected by con2D (BATCH, HEIGHT, WIDTH, CHANNEL)"
   ]
  },
  {
   "cell_type": "code",
   "execution_count": 42,
   "metadata": {},
   "outputs": [],
   "source": [
    "new_image = np.expand_dims(new_image, axis = 0)"
   ]
  },
  {
   "cell_type": "code",
   "execution_count": 43,
   "metadata": {},
   "outputs": [
    {
     "data": {
      "text/plain": [
       "(1, 28, 28, 1)"
      ]
     },
     "execution_count": 43,
     "metadata": {},
     "output_type": "execute_result"
    }
   ],
   "source": [
    "new_image.shape"
   ]
  },
  {
   "cell_type": "code",
   "execution_count": 44,
   "metadata": {},
   "outputs": [],
   "source": [
    "pred_class = loaded_lenet5.predict_classes(new_image)"
   ]
  },
  {
   "cell_type": "code",
   "execution_count": 45,
   "metadata": {},
   "outputs": [
    {
     "name": "stdout",
     "output_type": "stream",
     "text": [
      "[6]\n"
     ]
    }
   ],
   "source": [
    "print(pred_class)"
   ]
  },
  {
   "cell_type": "code",
   "execution_count": 46,
   "metadata": {},
   "outputs": [
    {
     "name": "stdout",
     "output_type": "stream",
     "text": [
      "Predicted class name: 6\n"
     ]
    }
   ],
   "source": [
    "print('Predicted class name:', pred_class[0])   "
   ]
  },
  {
   "cell_type": "markdown",
   "metadata": {},
   "source": [
    "# Another prediction..."
   ]
  },
  {
   "cell_type": "code",
   "execution_count": 47,
   "metadata": {},
   "outputs": [
    {
     "data": {
      "text/plain": [
       "<matplotlib.image.AxesImage at 0x20988edcb88>"
      ]
     },
     "execution_count": 47,
     "metadata": {},
     "output_type": "execute_result"
    },
    {
     "data": {
      "image/png": "[encoded data removed]",
      "text/plain": [
       "<Figure size 432x288 with 1 Axes>"
      ]
     },
     "metadata": {
      "needs_background": "light"
     },
     "output_type": "display_data"
    }
   ],
   "source": [
    "X_test_500 = X_test[500].flatten().reshape(28, 28)\n",
    "plt.imshow(X_test_500)"
   ]
  },
  {
   "cell_type": "code",
   "execution_count": 48,
   "metadata": {},
   "outputs": [
    {
     "name": "stdout",
     "output_type": "stream",
     "text": [
      "[0. 0. 0. 1. 0. 0. 0. 0. 0. 0.]\n"
     ]
    }
   ],
   "source": [
    "print(y_test[500])"
   ]
  },
  {
   "cell_type": "markdown",
   "metadata": {},
   "source": [
    "# Prepare sample image for prediction"
   ]
  },
  {
   "cell_type": "code",
   "execution_count": 49,
   "metadata": {},
   "outputs": [
    {
     "data": {
      "text/plain": [
       "(1, 28, 28, 1)"
      ]
     },
     "execution_count": 49,
     "metadata": {},
     "output_type": "execute_result"
    }
   ],
   "source": [
    "new_image = X_test[500]\n",
    "new_image = keras.preprocessing.image.img_to_array(new_image)\n",
    "new_image = np.expand_dims(new_image, axis = 0)\n",
    "new_image.shape"
   ]
  },
  {
   "cell_type": "markdown",
   "metadata": {},
   "source": [
    "# Prediction"
   ]
  },
  {
   "cell_type": "code",
   "execution_count": 51,
   "metadata": {},
   "outputs": [
    {
     "name": "stdout",
     "output_type": "stream",
     "text": [
      "[3]\n"
     ]
    }
   ],
   "source": [
    "pred_class = loaded_lenet5.predict_classes(new_image)\n",
    "print(pred_class)"
   ]
  },
  {
   "cell_type": "code",
   "execution_count": null,
   "metadata": {},
   "outputs": [],
   "source": []
  }
 ],
 "metadata": {
  "kernelspec": {
   "display_name": "Python 3",
   "language": "python",
   "name": "python3"
  },
  "language_info": {
   "codemirror_mode": {
    "name": "ipython",
    "version": 3
   },
   "file_extension": ".py",
   "mimetype": "text/x-python",
   "name": "python",
   "nbconvert_exporter": "python",
   "pygments_lexer": "ipython3",
   "version": "3.7.6"
  }
 },
 "nbformat": 4,
 "nbformat_minor": 4
}
